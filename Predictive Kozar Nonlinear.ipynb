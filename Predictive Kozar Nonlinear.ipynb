{
 "cells": [
  {
   "cell_type": "markdown",
   "id": "c12da647-d8df-4949-a173-e330438e2c6c",
   "metadata": {},
   "source": [
    "# Predictive Kozar Nonlinear\n",
    "\n",
    "Copied from `Predictive Kozar.ipynb` to explore nonlinear combinations of predictors.  In this notebook we add products of the basic Kozar predictors to the predictor set.\n",
    "\n",
    "There are a few different ways to do this, I choose to demean the predictors first and then form the NL combinations."
   ]
  },
  {
   "cell_type": "code",
   "execution_count": 1,
   "id": "ba5c245b-097a-40a1-a38f-9ddfd0f1b725",
   "metadata": {},
   "outputs": [],
   "source": [
    "import os\n",
    "import matplotlib.pyplot as plt\n",
    "import numpy as np\n",
    "import pandas as pd\n",
    "import scipy as sp"
   ]
  },
  {
   "cell_type": "code",
   "execution_count": 2,
   "id": "dca0c25d-4f81-4f2d-a6df-be69df92110c",
   "metadata": {},
   "outputs": [],
   "source": [
    "# The range of years to gather data\n",
    "YEARS = tuple(range(1878, 2020))\n",
    "nyears = len(YEARS)"
   ]
  },
  {
   "cell_type": "markdown",
   "id": "a702ecdb-74db-415b-be10-e8052a2ef445",
   "metadata": {},
   "source": [
    "## Data gathering"
   ]
  },
  {
   "cell_type": "code",
   "execution_count": 3,
   "id": "efe28951-299b-4db9-9670-cc9cd6c69af4",
   "metadata": {},
   "outputs": [],
   "source": [
    "counts = pd.read_csv('data_ibm/data.csv', index_col=0).loc[YEARS[0]:YEARS[-1], 'counts']"
   ]
  },
  {
   "cell_type": "code",
   "execution_count": 4,
   "id": "4e348bd4-4380-4be0-bcfb-125732908caa",
   "metadata": {},
   "outputs": [],
   "source": [
    "# This data output by data_ibm/Generate data.ipynb\n",
    "kozar1 = pd.read_csv('data_ibm/data.csv', index_col=0).loc[YEARS[0]:YEARS[-1], ['mdr_aso', 'nino34_djf', 'nao_djfm']]\n",
    "\n",
    "# This data is output by data/Generate MDR.ipynb\n",
    "# Using April values\n",
    "kozar2p = pd.read_csv('data/data_mdr.csv', index_col=0).loc[YEARS[0]:YEARS[-1], ['4']]\n",
    "kozar2p.columns = ['mdr_p']"
   ]
  },
  {
   "cell_type": "markdown",
   "id": "f04e944a-82f4-4216-95d5-bcf7702104c8",
   "metadata": {},
   "source": [
    "Data used in the Kozar 2012 paper"
   ]
  },
  {
   "cell_type": "code",
   "execution_count": 5,
   "id": "dc4adb72-6eaf-4a7e-b804-156bbb6d7c9b",
   "metadata": {},
   "outputs": [],
   "source": [
    "kozar_np = kozar1.copy()\n",
    "# Incorporate an intercept\n",
    "kozar_np.insert(0, \"icpt\", np.ones((kozar_np.shape[0],)))"
   ]
  },
  {
   "cell_type": "markdown",
   "id": "a5de2527-f67c-4dc9-b9ff-80b4ef6ce273",
   "metadata": {},
   "source": [
    "Predictive version of Kozar"
   ]
  },
  {
   "cell_type": "code",
   "execution_count": 6,
   "id": "7e12f9b2-74c2-45e9-a6d6-2536e4ccebc7",
   "metadata": {},
   "outputs": [],
   "source": [
    "kozar = pd.concat([kozar2p, kozar1.loc[:, ['nino34_djf', 'nao_djfm']]], axis=1)\n",
    "# Incorporate an intercept\n",
    "kozar.insert(0, \"icpt\", np.ones((kozar.shape[0],)))"
   ]
  },
  {
   "cell_type": "markdown",
   "id": "cd18f0aa-5223-45fd-9b88-19351d7e2052",
   "metadata": {},
   "source": [
    "We now have a few datasets:\n",
    "- `counts` are the VK08 corrected counts\n",
    "- `kozar_np` the \"non-predictive\" data used in Kozar 2012\n",
    "- `kozar` is the \"predictive\" data using April MDR temperatures"
   ]
  },
  {
   "cell_type": "markdown",
   "id": "73e268f6-7ac7-47a6-8b01-cd8e615a066c",
   "metadata": {},
   "source": [
    "## Define cross-validation periods"
   ]
  },
  {
   "cell_type": "code",
   "execution_count": 7,
   "id": "d717ea51-80c2-4001-a5c5-07f555078c72",
   "metadata": {},
   "outputs": [],
   "source": [
    "assert len(YEARS) == 142\n",
    "cv_batch_idxs = [np.arange(2, 2+28), np.arange(2+28, 2+28*2), np.arange(2+28*2, 2+28*3), np.arange(2+28*3, 2+28*4), np.arange(2+28*4, 2+28*5)]\n",
    "num_batches = len(cv_batch_idxs)"
   ]
  },
  {
   "cell_type": "markdown",
   "id": "30cb0e31-299e-4b7c-9ea6-b14d41f64598",
   "metadata": {},
   "source": [
    "Prepare the datasets for cross validation.  First use the `cv_batch_idxs` to split into batches"
   ]
  },
  {
   "cell_type": "code",
   "execution_count": 8,
   "id": "318091af-c103-47f3-986a-75d6d2643ae9",
   "metadata": {},
   "outputs": [],
   "source": [
    "def get_cv_data(batch_idx, data, cv_batch_idxs=cv_batch_idxs):\n",
    "    \"\"\"\n",
    "    pass in data of shape (observation, feature)\n",
    "    returns the i^th training and validation data sets\n",
    "    \"\"\"\n",
    "    if isinstance(data, pd.DataFrame) or isinstance(data, pd.Series):\n",
    "        data = data.values\n",
    "    assert len(data.shape) <= 2\n",
    "    if len(data.shape) == 1: # one-dimensional\n",
    "        batches = [data[idxs] for idxs in cv_batch_idxs]\n",
    "    else:\n",
    "        batches = [data[idxs, :] for idxs in cv_batch_idxs]\n",
    "    train = np.concatenate([c for (i, c) in enumerate(batches) if i != batch_idx], axis=0).copy()\n",
    "    valid = batches[batch_idx].copy()\n",
    "    return train, valid    "
   ]
  },
  {
   "cell_type": "markdown",
   "id": "9007b80d-e9e2-4334-afca-1c629797d5fd",
   "metadata": {},
   "source": [
    "# Test some models"
   ]
  },
  {
   "cell_type": "markdown",
   "id": "23c06975-b6cc-4345-889e-1c530a6910bf",
   "metadata": {},
   "source": [
    "## Intercept"
   ]
  },
  {
   "cell_type": "code",
   "execution_count": 9,
   "id": "079128ba-4dde-496a-8434-85577988a43f",
   "metadata": {},
   "outputs": [
    {
     "name": "stdout",
     "output_type": "stream",
     "text": [
      "0 2.648679\n",
      "1 4.540209\n",
      "2 2.228837\n",
      "3 2.510242\n",
      "4 5.243168\n",
      "\n",
      "mean error = 3.4342\n",
      "sdom error = 0.5448\n"
     ]
    }
   ],
   "source": [
    "def test_icpt():\n",
    "    params = []\n",
    "    errs = []\n",
    "    for bidx in range(num_batches):\n",
    "        counts_train, counts_valid = get_cv_data(bidx, counts)\n",
    "        err = np.mean(np.abs(counts_valid - np.mean(counts_train)))\n",
    "        params.append(np.mean(counts_train))\n",
    "        errs.append(err)\n",
    "        print(\"{:d} {:f}\".format(bidx, err))\n",
    "    print()\n",
    "    print(\"mean error = {:.4f}\".format(np.mean(errs)))\n",
    "    print(\"sdom error = {:.4f}\".format(np.std(errs)/np.sqrt(len(errs))))\n",
    "    return np.array(errs), params\n",
    "errs_icpt, params_icpt = test_icpt()"
   ]
  },
  {
   "cell_type": "code",
   "execution_count": 10,
   "id": "ecabe25e-6ea9-4d4d-9277-64b4576aebdc",
   "metadata": {},
   "outputs": [
    {
     "data": {
      "image/png": "[encoded data removed]",
      "text/plain": [
       "<Figure size 640x480 with 1 Axes>"
      ]
     },
     "metadata": {},
     "output_type": "display_data"
    }
   ],
   "source": [
    "plt.plot(params_icpt, 'o-')\n",
    "plt.xticks(range(5), range(1, 5+1))\n",
    "plt.grid()\n",
    "plt.legend(('intercept'))\n",
    "plt.xlabel('fold')\n",
    "plt.ylabel('forecast');"
   ]
  },
  {
   "cell_type": "markdown",
   "id": "87afbb55-86d7-4f52-a6f8-d602fe138019",
   "metadata": {},
   "source": [
    "## Kozar 2012 (non-predictive)"
   ]
  },
  {
   "cell_type": "code",
   "execution_count": 11,
   "id": "ae7a5be4-34f2-4906-9d71-53b24aae3be7",
   "metadata": {},
   "outputs": [],
   "source": [
    "def log_like(targets, forecast):\n",
    "    return np.sum(targets * np.log(forecast) - forecast)\n",
    "\n",
    "\n",
    "def calc_forecast(features, thetas):\n",
    "    return np.exp(np.dot(features, thetas))\n",
    "\n",
    "\n",
    "def make_objective(targets, features):\n",
    "    # Log-Liklihood per observation has better gradient properties\n",
    "    def foo(x):\n",
    "        fc = calc_forecast(features, x)\n",
    "        nobs = features.shape[0]\n",
    "        return -log_like(targets, fc)/float(nobs)\n",
    "    return foo\n",
    "\n",
    "\n",
    "def clean(targets, features):\n",
    "    # Return cleaned versions of targets and features\n",
    "    good = np.logical_and(np.all(np.isfinite(features), axis=1), np.isfinite(targets))\n",
    "    return targets[good], features[good, :]\n",
    "\n",
    "\n",
    "def fit_poisson(targets, features):\n",
    "    \"\"\"\n",
    "    Fit the model and deal with missing observations.  Note this scales up the \n",
    "    MSE.  Returns the betas.  Also return some additional information\n",
    "    \"\"\"\n",
    "    # clean and fit\n",
    "    t_, f_ = clean(targets, features)\n",
    "    beta0 = np.zeros((f_.shape[1]))\n",
    "    # solve\n",
    "    res = sp.optimize.minimize(make_objective(t_, f_), beta0, method='L-BFGS-B')\n",
    "    assert res.success\n",
    "    return res.x\n",
    "\n",
    "def fit_pr(targets_train, preds_train, pred_valid):\n",
    "    \"\"\"\n",
    "    targets_train   (year,) counts\n",
    "    pred_train  (year, pred) predictors\n",
    "    \"\"\"\n",
    "\n",
    "    coefs = fit_poisson(targets_train, preds_train)\n",
    "    # evalute the model on the validation set\n",
    "    kozar_pred_valid = calc_forecast(pred_valid, coefs)\n",
    "    return coefs, kozar_pred_valid"
   ]
  },
  {
   "cell_type": "code",
   "execution_count": 12,
   "id": "b437ca28-80c0-4515-a07d-de115d1b7f2b",
   "metadata": {},
   "outputs": [
    {
     "name": "stdout",
     "output_type": "stream",
     "text": [
      "0 2.271503\n",
      "1 2.782778\n",
      "2 2.376887\n",
      "3 2.206847\n",
      "4 2.671710\n",
      "\n",
      "mean mae = 2.4619\n",
      "sdom mae = 0.1011\n"
     ]
    }
   ],
   "source": [
    "def test_kozar_np():\n",
    "    errs = []\n",
    "    params = []\n",
    "    for bidx in range(num_batches):\n",
    "        counts_train, counts_valid = get_cv_data(bidx, counts)\n",
    "        kozar_train, kozar_valid = get_cv_data(bidx, kozar_np)\n",
    "        # This step is important. We define mean temperatures using the training\n",
    "        # data as a reference period, then using this mean in the validation period\n",
    "        # This makes no difference in a Poisson regression: but makes it more \n",
    "        # interpretable and might matter in other fitting methods, so we do it here\n",
    "        assert np.all(kozar_train[:, 0]==1)\n",
    "        feat_means = np.mean(kozar_train[:, 1:], axis=0)\n",
    "        # Demean training data\n",
    "        train_dm = kozar_train.copy()\n",
    "        train_dm[:, 1:] = kozar_train[:, 1:] - feat_means\n",
    "        # Demean validation data\n",
    "        valid_dm = kozar_valid.copy()\n",
    "        valid_dm[:, 1:] = kozar_valid[:, 1:] - feat_means\n",
    "        # Fit\n",
    "        betas, preds = fit_pr(counts_train, train_dm, valid_dm)\n",
    "        params.append(betas)\n",
    "        err = np.mean(np.abs(preds - counts_valid))\n",
    "        errs.append(err)\n",
    "        print(\"{:d} {:f}\".format(bidx, err))\n",
    "    print()\n",
    "    print(\"mean mae = {:.4f}\".format(np.mean(errs)))\n",
    "    print(\"sdom mae = {:.4f}\".format(np.std(errs)/np.sqrt(len(errs))))\n",
    "    return np.array(errs), params\n",
    "errs_kozar_np, params_kozar_np = test_kozar_np()"
   ]
  },
  {
   "cell_type": "code",
   "execution_count": 13,
   "id": "020e838f-37e4-40f9-abee-923743eed413",
   "metadata": {},
   "outputs": [
    {
     "data": {
      "image/png": "[encoded data removed]",
      "text/plain": [
       "<Figure size 640x480 with 1 Axes>"
      ]
     },
     "metadata": {},
     "output_type": "display_data"
    }
   ],
   "source": [
    "plt.plot(params_kozar_np, 'o-')\n",
    "plt.xticks(range(5), range(1, 5+1))\n",
    "plt.grid()\n",
    "plt.legend(kozar_np.columns)\n",
    "plt.xlabel('fold')\n",
    "plt.ylabel('coefs');"
   ]
  },
  {
   "cell_type": "markdown",
   "id": "122f4bb5-230f-42de-99e9-24be96985928",
   "metadata": {},
   "source": [
    "## Predictive Kozar"
   ]
  },
  {
   "cell_type": "code",
   "execution_count": 14,
   "id": "32043abf-8eaf-4f8b-8b88-8a8f553019d7",
   "metadata": {},
   "outputs": [
    {
     "name": "stdout",
     "output_type": "stream",
     "text": [
      "0 2.138035\n",
      "1 3.186381\n",
      "2 2.378595\n",
      "3 2.718120\n",
      "4 3.614084\n",
      "\n",
      "mean mae = 2.8070\n",
      "sdom mae = 0.2395\n"
     ]
    }
   ],
   "source": [
    "def test_kozar():\n",
    "    errs = []\n",
    "    params = []\n",
    "    for bidx in range(num_batches):\n",
    "        counts_train, counts_valid = get_cv_data(bidx, counts)\n",
    "        kozar_train, kozar_valid = get_cv_data(bidx, kozar)\n",
    "        # This step is important. We define mean temperatures using the training\n",
    "        # data as a reference period, then using this mean in the validation period\n",
    "        # This makes no difference in a Poisson regression: but makes it more \n",
    "        # interpretable and might matter in other fitting methods, so we do it here\n",
    "        assert np.all(kozar_train[:, 0]==1)\n",
    "        feat_means = np.mean(kozar_train[:, 1:], axis=0)\n",
    "        # Demean training data\n",
    "        train_dm = kozar_train.copy()\n",
    "        train_dm[:, 1:] = kozar_train[:, 1:] - feat_means\n",
    "        # Demean validation data\n",
    "        valid_dm = kozar_valid.copy()\n",
    "        valid_dm[:, 1:] = kozar_valid[:, 1:] - feat_means\n",
    "        # Fit\n",
    "        betas, preds = fit_pr(counts_train, train_dm, valid_dm)\n",
    "        params.append(betas)\n",
    "        err = np.mean(np.abs(preds - counts_valid))\n",
    "        errs.append(err)\n",
    "        print(\"{:d} {:f}\".format(bidx, err))\n",
    "    print()\n",
    "    print(\"mean mae = {:.4f}\".format(np.mean(errs)))\n",
    "    print(\"sdom mae = {:.4f}\".format(np.std(errs)/np.sqrt(len(errs))))\n",
    "    return np.array(errs), params\n",
    "errs_kozar, params_kozar = test_kozar();"
   ]
  },
  {
   "cell_type": "code",
   "execution_count": 15,
   "id": "97368a73-ea12-4429-8b27-476642c10c86",
   "metadata": {},
   "outputs": [
    {
     "data": {
      "image/png": "[encoded data removed]",
      "text/plain": [
       "<Figure size 640x480 with 1 Axes>"
      ]
     },
     "metadata": {},
     "output_type": "display_data"
    }
   ],
   "source": [
    "plt.plot(params_kozar, 'o-')\n",
    "plt.xticks(range(5), range(1, 5+1))\n",
    "plt.grid()\n",
    "plt.legend(kozar.columns)\n",
    "plt.xlabel('fold')\n",
    "plt.ylabel('coefs');"
   ]
  },
  {
   "cell_type": "markdown",
   "id": "4a92155a-7292-4198-901f-5c9378081be3",
   "metadata": {},
   "source": [
    "## Comparison across models"
   ]
  },
  {
   "cell_type": "code",
   "execution_count": 16,
   "id": "3bd18027-1fe3-45c5-b8ea-e2caaa622608",
   "metadata": {},
   "outputs": [
    {
     "data": {
      "text/plain": [
       "<matplotlib.legend.Legend at 0x7fe8fdf3f820>"
      ]
     },
     "execution_count": 16,
     "metadata": {},
     "output_type": "execute_result"
    },
    {
     "data": {
      "image/png": "[encoded data removed]",
      "text/plain": [
       "<Figure size 640x480 with 1 Axes>"
      ]
     },
     "metadata": {},
     "output_type": "display_data"
    }
   ],
   "source": [
    "plt.plot(errs_icpt, 'o-')\n",
    "plt.plot(errs_kozar_np, 'o-')\n",
    "plt.plot(errs_kozar, 'o-')\n",
    "plt.xticks(range(5), range(1, 5+1))\n",
    "plt.xlabel('fold')\n",
    "plt.ylabel('errors')\n",
    "plt.grid()\n",
    "plt.ylim(0, max(plt.ylim()))\n",
    "plt.legend(('icpt', 'kozar np', 'kozar'))"
   ]
  },
  {
   "cell_type": "code",
   "execution_count": 17,
   "id": "47a72d10-8b42-472c-ad86-22a8da26ab3d",
   "metadata": {},
   "outputs": [],
   "source": [
    "def compare(errs1, errs2):\n",
    "    srn = np.sqrt(len(errs1))\n",
    "    def rpt(x):\n",
    "        print(\"{:6.2f}  {:6.2f}  {:6.2f}\".format(np.mean(x), np.std(x)/srn, srn*np.mean(x)/np.std(x)))\n",
    "    print(\"  mean    sdom     z\")\n",
    "    rpt(errs1)\n",
    "    rpt(errs2)\n",
    "    rpt(errs1-errs2)"
   ]
  },
  {
   "cell_type": "code",
   "execution_count": 18,
   "id": "c02607a9-3316-429d-b2d9-030dd737708a",
   "metadata": {},
   "outputs": [
    {
     "name": "stdout",
     "output_type": "stream",
     "text": [
      "  mean    sdom     z\n",
      "  2.46    0.10   24.35\n",
      "  3.43    0.54    6.30\n",
      " -0.97    0.46   -2.13\n"
     ]
    }
   ],
   "source": [
    "compare(errs_kozar_np, errs_icpt)"
   ]
  },
  {
   "cell_type": "code",
   "execution_count": 19,
   "id": "37b96c1d-1313-4afd-a33e-6e864efb3bc9",
   "metadata": {},
   "outputs": [
    {
     "name": "stdout",
     "output_type": "stream",
     "text": [
      "  mean    sdom     z\n",
      "  2.81    0.24   11.72\n",
      "  3.43    0.54    6.30\n",
      " -0.63    0.34   -1.86\n"
     ]
    }
   ],
   "source": [
    "compare(errs_kozar, errs_icpt)"
   ]
  },
  {
   "cell_type": "code",
   "execution_count": 20,
   "id": "977cf1ff-3474-4d99-971f-aa6f25285b87",
   "metadata": {},
   "outputs": [
    {
     "name": "stdout",
     "output_type": "stream",
     "text": [
      "  mean    sdom     z\n",
      "  2.81    0.24   11.72\n",
      "  2.46    0.10   24.35\n",
      "  0.35    0.17    2.01\n"
     ]
    }
   ],
   "source": [
    "compare(errs_kozar, errs_kozar_np)"
   ]
  },
  {
   "cell_type": "markdown",
   "id": "1ebafb98-4b20-4e77-bb95-a32b9f8ef4ee",
   "metadata": {},
   "source": [
    "## Nonlinear"
   ]
  },
  {
   "cell_type": "code",
   "execution_count": 21,
   "id": "09541050-3b92-4c2b-96f1-a10d80e6b65e",
   "metadata": {},
   "outputs": [],
   "source": [
    "def reg_std(x):\n",
    "    return np.std(x) + 1e-6"
   ]
  },
  {
   "cell_type": "code",
   "execution_count": 22,
   "id": "013075c6-8497-4d41-baba-59835c356f0b",
   "metadata": {},
   "outputs": [
    {
     "name": "stdout",
     "output_type": "stream",
     "text": [
      "    absolute      difference\n",
      "  mean    sdom    mean     z     name\n",
      "--------------------------------------------------\n",
      "  2.46    0.10    0.00    0.00   kozar_np\n",
      "  2.63    0.19    0.16    1.30   mdr_aso * mdr_aso\n",
      "  2.50    0.09    0.04    4.36   mdr_aso * nino34_djf\n",
      "  2.47    0.10    0.00    0.37   mdr_aso * nao_djfm\n",
      "  2.47    0.11    0.01    0.84   nino34_djf * nino34_djf\n",
      "  2.43    0.11   -0.03   -4.71   nino34_djf * nao_djfm\n",
      "  2.47    0.10    0.00    0.74   nao_djfm * nao_djfm\n"
     ]
    }
   ],
   "source": [
    "def test_kozar_np_nl_1(prod1, prod2, verbose=True):\n",
    "    \"\"\"\n",
    "    prod1 and prod2 are the indexes to use to form the product\n",
    "    \"\"\"\n",
    "    errs = []\n",
    "    params = []\n",
    "    def concat_product(orig):\n",
    "        return np.concatenate([orig, (orig[:, prod1] * orig[:, prod2]).reshape((-1,1))], axis=1)\n",
    "    for bidx in range(num_batches):\n",
    "        counts_train, counts_valid = get_cv_data(bidx, counts)\n",
    "        kozar_train, kozar_valid = get_cv_data(bidx, kozar_np)\n",
    "        # This step is important. We define mean temperatures using the training\n",
    "        # data as a reference period, then using this mean in the validation period\n",
    "        # This makes no difference in a Poisson regression: but makes it more \n",
    "        # interpretable and might matter in other fitting methods, so we do it here\n",
    "        assert np.all(kozar_train[:, 0]==1)\n",
    "        feat_means = np.mean(kozar_train[:, 1:], axis=0)\n",
    "        # Demean training data\n",
    "        train_dm = kozar_train.copy()\n",
    "        train_dm[:, 1:] = kozar_train[:, 1:] - feat_means\n",
    "        # Demean validation data\n",
    "        valid_dm = kozar_valid.copy()\n",
    "        valid_dm[:, 1:] = kozar_valid[:, 1:] - feat_means\n",
    "        # Form nonlinear predictors\n",
    "        train_dm = concat_product(train_dm)\n",
    "        valid_dm = concat_product(valid_dm)\n",
    "        # Fit\n",
    "        betas, preds = fit_pr(counts_train, train_dm, valid_dm)\n",
    "        params.append(betas)\n",
    "        err = np.mean(np.abs(preds - counts_valid))\n",
    "        errs.append(err)\n",
    "        if verbose:\n",
    "            print(\"{:d} {:f}\".format(bidx, err))\n",
    "    if verbose:\n",
    "        print()\n",
    "        print(\"mean mae = {:.4f}\".format(np.mean(errs)))\n",
    "        print(\"sdom mae = {:.4f}\".format(np.std(errs)/np.sqrt(len(errs))))\n",
    "    return np.array(errs), params\n",
    "\n",
    "def test_kozar_np_nl():\n",
    "    # List of products\n",
    "    prod_list = [(i, j) for i in [1,2,3] for j in [1,2,3] if i <= j]\n",
    "\n",
    "    # List of names\n",
    "    cols = kozar_np.columns\n",
    "    name_list = [cols[i] + \" * \" + cols[j] for (i, j) in prod_list]\n",
    "\n",
    "    # For display\n",
    "    prod_list = [(None, None)] + prod_list\n",
    "    name_list = [\"kozar_np\"] + name_list\n",
    "\n",
    "    # Reporting\n",
    "    errs_kozar_np_nl = []\n",
    "    params_kozar_np_nl = []\n",
    "    print(\"    absolute      difference\")\n",
    "    print(\"  mean    sdom    mean     z     name\")\n",
    "    print(\"-\" * 50)\n",
    "    for n, (i, j) in zip(name_list, prod_list):\n",
    "        if i is None:\n",
    "            x = errs_kozar_np\n",
    "        else:\n",
    "            # do the fits\n",
    "            x, y = test_kozar_np_nl_1(i, j, verbose=False)\n",
    "            errs_kozar_np_nl.append(x)\n",
    "            params_kozar_np_nl.append(y)\n",
    "\n",
    "        # comparison with base (errs_kozar_np)\n",
    "        # negative differences = lower error = good\n",
    "        errs_base = errs_kozar_np\n",
    "        srn = np.sqrt(len(errs_base))\n",
    "        derrs = x - errs_base\n",
    "\n",
    "        print((\"{:6.2f}  \" * 4 +  \" {:s}\").format(np.mean(x),\n",
    "                                      np.std(x)/srn,\n",
    "                                      np.mean(derrs),\n",
    "                                      srn*np.mean(derrs)/reg_std(derrs), n))\n",
    "    return errs_kozar_np_nl, params_kozar_np_nl, name_list\n",
    "\n",
    "errs_kozar_np_nl, params_kozar_np_nl, names_kozar_np_nl = test_kozar_np_nl()"
   ]
  },
  {
   "cell_type": "code",
   "execution_count": 23,
   "id": "265a526f-05b0-4c79-951a-17c562e417d0",
   "metadata": {},
   "outputs": [
    {
     "data": {
      "image/png": "[encoded data removed]",
      "text/plain": [
       "<Figure size 400x300 with 1 Axes>"
      ]
     },
     "metadata": {},
     "output_type": "display_data"
    }
   ],
   "source": [
    "plt.figure(figsize=(4,3))\n",
    "plt.plot(range(5), errs_kozar_np_nl[-2] - errs_kozar_np, 'o-')\n",
    "plt.xticks(range(5), range(1,6))\n",
    "plt.ylim((plt.ylim()[0], 0))\n",
    "plt.xlabel('Cross validation epoch')\n",
    "plt.ylabel('Error relative to baseline')\n",
    "plt.grid();"
   ]
  },
  {
   "cell_type": "code",
   "execution_count": 24,
   "id": "e98e5d96-d6a5-4db2-8418-f6b4f3cd5042",
   "metadata": {},
   "outputs": [
    {
     "data": {
      "image/png": "[encoded data removed]",
      "text/plain": [
       "<Figure size 400x300 with 1 Axes>"
      ]
     },
     "metadata": {},
     "output_type": "display_data"
    }
   ],
   "source": [
    "plt.figure(figsize=(4,3))\n",
    "plt.plot(range(5), [x[-1] for x in params_kozar_np_nl[-2]], 'o-')\n",
    "plt.xticks(range(5), range(1,6))\n",
    "plt.ylim((0, plt.ylim()[1]))\n",
    "plt.xlabel('Cross validation epoch')\n",
    "plt.ylabel('Coefficient on product')\n",
    "plt.grid();"
   ]
  },
  {
   "cell_type": "markdown",
   "id": "af22d9a5-7c57-477e-80a3-1b87e0eb80d0",
   "metadata": {},
   "source": [
    "It appears that the product of the second two predictors (`nino34` and `nao`) gives a statistically significant but small boost to forecast power.  The coefficient gets small in the last cross-validation period.\n",
    "\n",
    "Now let's do the same test on predictive Kozar"
   ]
  },
  {
   "cell_type": "code",
   "execution_count": 25,
   "id": "2fa73f41-3edc-47b2-b9a6-921f9b334b0d",
   "metadata": {},
   "outputs": [
    {
     "name": "stdout",
     "output_type": "stream",
     "text": [
      "    absolute      difference\n",
      "  mean    sdom    mean     z     name\n",
      "--------------------------------------------------\n",
      "  2.81    0.24    0.00    0.00   kozar\n",
      "  2.88    0.27    0.08    1.85   mdr_p * mdr_p\n",
      "  2.94    0.31    0.13    1.28   mdr_p * nino34_djf\n",
      "  2.83    0.25    0.02    1.63   mdr_p * nao_djfm\n",
      "  2.85    0.25    0.04    3.14   nino34_djf * nino34_djf\n",
      "  2.81    0.24    0.00    0.09   nino34_djf * nao_djfm\n",
      "  2.81    0.23    0.01    0.69   nao_djfm * nao_djfm\n"
     ]
    }
   ],
   "source": [
    "def test_kozar_nl_1(prod1, prod2, verbose=True):\n",
    "    \"\"\"\n",
    "    prod1 and prod2 are the indexes to use to form the product\n",
    "    \"\"\"\n",
    "    errs = []\n",
    "    params = []\n",
    "    def concat_product(orig):\n",
    "        return np.concatenate([orig, (orig[:, prod1] * orig[:, prod2]).reshape((-1,1))], axis=1)\n",
    "    for bidx in range(num_batches):\n",
    "        counts_train, counts_valid = get_cv_data(bidx, counts)\n",
    "        kozar_train, kozar_valid = get_cv_data(bidx, kozar)\n",
    "        # This step is important. We define mean temperatures using the training\n",
    "        # data as a reference period, then using this mean in the validation period\n",
    "        # This makes no difference in a Poisson regression: but makes it more \n",
    "        # interpretable and might matter in other fitting methods, so we do it here\n",
    "        assert np.all(kozar_train[:, 0]==1)\n",
    "        feat_means = np.mean(kozar_train[:, 1:], axis=0)\n",
    "        # Demean training data\n",
    "        train_dm = kozar_train.copy()\n",
    "        train_dm[:, 1:] = kozar_train[:, 1:] - feat_means\n",
    "        # Demean validation data\n",
    "        valid_dm = kozar_valid.copy()\n",
    "        valid_dm[:, 1:] = kozar_valid[:, 1:] - feat_means\n",
    "        # Form nonlinear predictors\n",
    "        train_dm = concat_product(train_dm)\n",
    "        valid_dm = concat_product(valid_dm)\n",
    "        # Fit\n",
    "        betas, preds = fit_pr(counts_train, train_dm, valid_dm)\n",
    "        params.append(betas)\n",
    "        err = np.mean(np.abs(preds - counts_valid))\n",
    "        errs.append(err)\n",
    "        if verbose:\n",
    "            print(\"{:d} {:f}\".format(bidx, err))\n",
    "    if verbose:\n",
    "        print()\n",
    "        print(\"mean mae = {:.4f}\".format(np.mean(errs)))\n",
    "        print(\"sdom mae = {:.4f}\".format(np.std(errs)/np.sqrt(len(errs))))\n",
    "    return np.array(errs), params\n",
    "\n",
    "def test_kozar_nl():\n",
    "    # List of products\n",
    "    prod_list = [(i, j) for i in [1,2,3] for j in [1,2,3] if i <= j]\n",
    "\n",
    "    # List of names\n",
    "    cols = kozar.columns\n",
    "    name_list = [cols[i] + \" * \" + cols[j] for (i, j) in prod_list]\n",
    "\n",
    "    # For display\n",
    "    prod_list = [(None, None)] + prod_list\n",
    "    name_list = [\"kozar\"] + name_list\n",
    "\n",
    "    # Reporting\n",
    "    errs_kozar_nl = []\n",
    "    params_kozar_nl = []\n",
    "    print(\"    absolute      difference\")\n",
    "    print(\"  mean    sdom    mean     z     name\")\n",
    "    print(\"-\" * 50)\n",
    "    for n, (i, j) in zip(name_list, prod_list):\n",
    "        if i is None:\n",
    "            x = errs_kozar\n",
    "        else:\n",
    "            # do the fits\n",
    "            x, y = test_kozar_nl_1(i, j, verbose=False)\n",
    "            errs_kozar_nl.append(x)\n",
    "            params_kozar_nl.append(y)\n",
    "\n",
    "        # comparison with base (errs_kozar)\n",
    "        # negative differences = lower error = good\n",
    "        errs_base = errs_kozar\n",
    "        srn = np.sqrt(len(errs_base))\n",
    "        derrs = x - errs_base\n",
    "\n",
    "        print((\"{:6.2f}  \" * 4 +  \" {:s}\").format(np.mean(x),\n",
    "                                      np.std(x)/srn,\n",
    "                                      np.mean(derrs),\n",
    "                                      srn*np.mean(derrs)/reg_std(derrs), n))\n",
    "    return errs_kozar_nl, params_kozar_nl, name_list\n",
    "\n",
    "errs_kozar_nl, params_kozar_nl, names_kozar_nl = test_kozar_nl()"
   ]
  },
  {
   "cell_type": "markdown",
   "id": "6565283c-d330-400f-b597-b9ad1f928e2f",
   "metadata": {},
   "source": [
    "Nobody shows up in this one.  This is a little bit odd, since we did see some enhancement for the non-predictive version when the `nao * nino34` predictor was used.  Why doesn't it help here?  \n",
    "\n",
    "- Perhaps the original result was just an accident. Seems unlikely since we got outperformance in 4/5 of the cross validation periods\n",
    "- Perhaps for the non-predictive model the product predictor corrects something about the MDR predictor in-season\n",
    "- Perhaps the pre-season is informative, and that information is already carried by `mdr_p` in the predictive model, while `mdr_aso` lacks that information."
   ]
  },
  {
   "cell_type": "markdown",
   "id": "562a383b-9e6a-4e7e-8529-35e406a970c0",
   "metadata": {},
   "source": [
    "## Does the pre-season MDR SST help?\n",
    "\n",
    "This could be one explanation of the third possibility above"
   ]
  },
  {
   "cell_type": "code",
   "execution_count": 26,
   "id": "76a6b1b3-ed2b-475b-ab64-ca8defd2fd0f",
   "metadata": {},
   "outputs": [],
   "source": [
    "kozar_np_pre = pd.concat([ kozar_np.copy(), kozar.loc[:, 'mdr_p']], axis=1)"
   ]
  },
  {
   "cell_type": "code",
   "execution_count": 27,
   "id": "dee810e2-0ffd-45ed-85ca-ee1b6ea21906",
   "metadata": {},
   "outputs": [
    {
     "name": "stdout",
     "output_type": "stream",
     "text": [
      "0 2.276683\n",
      "1 2.790538\n",
      "2 2.384004\n",
      "3 2.215540\n",
      "4 2.757826\n",
      "\n",
      "mean mae = 2.4849\n",
      "sdom mae = 0.1084\n"
     ]
    }
   ],
   "source": [
    "def test_kozar_np_pre():\n",
    "    \"\"\"\n",
    "    Non-predictive (explanatory) Kozar with pre-season MDR SST\n",
    "    \"\"\"\n",
    "    errs = []\n",
    "    params = []\n",
    "    for bidx in range(num_batches):\n",
    "        counts_train, counts_valid = get_cv_data(bidx, counts)\n",
    "        kozar_train, kozar_valid = get_cv_data(bidx, kozar_np_pre)\n",
    "        # This step is important. We define mean temperatures using the training\n",
    "        # data as a reference period, then using this mean in the validation period\n",
    "        # This makes no difference in a Poisson regression: but makes it more \n",
    "        # interpretable and might matter in other fitting methods, so we do it here\n",
    "        assert np.all(kozar_train[:, 0]==1)\n",
    "        feat_means = np.mean(kozar_train[:, 1:], axis=0)\n",
    "        # Demean training data\n",
    "        train_dm = kozar_train.copy()\n",
    "        train_dm[:, 1:] = kozar_train[:, 1:] - feat_means\n",
    "        # Demean validation data\n",
    "        valid_dm = kozar_valid.copy()\n",
    "        valid_dm[:, 1:] = kozar_valid[:, 1:] - feat_means\n",
    "        # Fit\n",
    "        betas, preds = fit_pr(counts_train, train_dm, valid_dm)\n",
    "        params.append(betas)\n",
    "        err = np.mean(np.abs(preds - counts_valid))\n",
    "        errs.append(err)\n",
    "        print(\"{:d} {:f}\".format(bidx, err))\n",
    "    print()\n",
    "    print(\"mean mae = {:.4f}\".format(np.mean(errs)))\n",
    "    print(\"sdom mae = {:.4f}\".format(np.std(errs)/np.sqrt(len(errs))))\n",
    "    return np.array(errs), params\n",
    "errs_kozar_np_pre, params_kozar_np_pre = test_kozar_np_pre()"
   ]
  },
  {
   "cell_type": "markdown",
   "id": "585955a9-d9c0-4eef-822f-bf8145cc4d32",
   "metadata": {},
   "source": [
    "## Broader sets of candidate predictors\n",
    "\n",
    "The Kozar 2012 paper studided the three \"canonical\" predictors `mdr_aso`, `nao_djfm`, `nino34_djf` as well as seven additional predictors.  Among these seven, some did not have data availability for the entire period.  Here we will look at all possible products.  These should be interpreted carefully since we are doing a lot of multiple hypothesis testing!"
   ]
  },
  {
   "cell_type": "code",
   "execution_count": 28,
   "id": "73f7342b-f2b7-48e0-aee7-035cd385dedb",
   "metadata": {},
   "outputs": [],
   "source": [
    "# This data output by data_ibm/Generate data.ipynb\n",
    "cols = pd.read_csv('data_ibm/data.csv', index_col=0).columns\n",
    "cols = [c for c in cols if c != 'counts']\n",
    "fulldata = pd.read_csv('data_ibm/data.csv', index_col=0).loc[YEARS[0]:YEARS[-1], cols]\n",
    "fulldata.insert(0, \"icpt\", np.ones((fulldata.shape[0],)))\n",
    "\n",
    "# Indices of the canonical predictors\n",
    "best3_idxs = [list(fulldata.columns).index(s) for s in ['mdr_aso', 'nino34_djf', 'nao_djfm']]\n",
    "other_idxs = [i for i, s in enumerate(fulldata.columns) if i not in best3_idxs and s != 'icpt']"
   ]
  },
  {
   "cell_type": "markdown",
   "id": "98f9cb86-fdb4-4851-964c-5f12055b8424",
   "metadata": {},
   "source": [
    "**IMPORTANT** two of the predictors `sahel_jjas` and `amm_jjasom` do not have values for the full sample.  In the raw dataframe they are treated as NaN.  Here I will do the easy thing and just replace them with 0s.  This will bias some of the fits and evaluations early in the sample"
   ]
  },
  {
   "cell_type": "code",
   "execution_count": 29,
   "id": "130e1634-86ff-480a-a206-38393a6bced5",
   "metadata": {},
   "outputs": [],
   "source": [
    "fulldata.fillna(0, inplace=True)"
   ]
  },
  {
   "cell_type": "code",
   "execution_count": 30,
   "id": "2889e4bf-9f78-402c-a107-fc88f7430c64",
   "metadata": {},
   "outputs": [
    {
     "name": "stdout",
     "output_type": "stream",
     "text": [
      "    absolute      difference\n",
      "  mean    sdom    mean     z     name\n",
      "--------------------------------------------------\n",
      "  2.46    0.10    0.00    0.00   kozar_np\n",
      "  2.63    0.19    0.16    1.30   mdr_aso * mdr_aso\n",
      "  2.50    0.09    0.04    4.36   nino34_djf * mdr_aso\n",
      "  2.47    0.11    0.01    0.84   nino34_djf * nino34_djf\n",
      "  2.43    0.11   -0.03   -4.71   nino34_djf * nao_djfm\n",
      "  2.47    0.10    0.00    0.37   nao_djfm * mdr_aso\n",
      "  2.47    0.10    0.00    0.74   nao_djfm * nao_djfm\n",
      "  2.49    0.11    0.03    1.69   mdr_aso * sahel_jjas\n",
      "  2.48    0.10    0.02    3.49   mdr_aso * nino12_djf\n",
      "  2.49    0.09    0.03    2.78   mdr_aso * nino3_djf\n",
      "  2.52    0.10    0.06    1.26   mdr_aso * relative_aso\n",
      "  2.61    0.21    0.15    1.04   mdr_aso * tropic_aso\n",
      "  2.49    0.10    0.03    0.88   mdr_aso * nao_mj\n",
      "  2.47    0.10    0.01    1.72   mdr_aso * amm_jjasom\n",
      "  2.52    0.14    0.06    1.06   nino34_djf * sahel_jjas\n",
      "  2.48    0.10    0.02    2.85   nino34_djf * nino12_djf\n",
      "  2.48    0.11    0.01    1.73   nino34_djf * nino3_djf\n",
      "  2.50    0.11    0.03    1.49   nino34_djf * relative_aso\n",
      "  2.58    0.15    0.12    1.59   nino34_djf * tropic_aso\n",
      "  2.47    0.11    0.01    0.28   nino34_djf * nao_mj\n",
      "  2.49    0.09    0.03    1.19   nino34_djf * amm_jjasom\n",
      "  2.51    0.08    0.05    0.92   nao_djfm * sahel_jjas\n",
      "  2.50    0.11    0.04    1.48   nao_djfm * nino12_djf\n",
      "  2.44    0.10   -0.03   -5.10   nao_djfm * nino3_djf\n",
      "  2.46    0.10   -0.00   -0.97   nao_djfm * relative_aso\n",
      "  2.46    0.10   -0.00   -0.14   nao_djfm * tropic_aso\n",
      "  2.50    0.09    0.04    1.44   nao_djfm * nao_mj\n",
      "  2.46    0.10   -0.01   -0.69   nao_djfm * amm_jjasom\n",
      "  2.55    0.09    0.09    1.15   sahel_jjas * sahel_jjas\n",
      "  2.50    0.12    0.04    1.96   sahel_jjas * nino12_djf\n",
      "  2.52    0.13    0.06    1.56   sahel_jjas * nino3_djf\n",
      "  2.50    0.13    0.04    1.03   sahel_jjas * relative_aso\n",
      "  2.49    0.09    0.03    2.57   sahel_jjas * tropic_aso\n",
      "  2.48    0.10    0.01    0.67   sahel_jjas * nao_mj\n",
      "  2.46    0.09   -0.01   -0.22   sahel_jjas * amm_jjasom\n",
      "  2.48    0.11    0.01    1.68   nino12_djf * nino12_djf\n",
      "  2.48    0.10    0.02    2.84   nino12_djf * nino3_djf\n",
      "  2.47    0.10    0.00    0.60   nino12_djf * relative_aso\n",
      "  2.49    0.11    0.03    3.65   nino12_djf * tropic_aso\n",
      "  2.48    0.11    0.01    1.11   nino12_djf * nao_mj\n",
      "  2.47    0.10    0.01    1.10   nino12_djf * amm_jjasom\n",
      "  2.48    0.10    0.01    2.40   nino3_djf * nino3_djf\n",
      "  2.48    0.10    0.02    2.61   nino3_djf * relative_aso\n",
      "  2.54    0.13    0.08    1.71   nino3_djf * tropic_aso\n",
      "  2.46    0.11    0.00    0.07   nino3_djf * nao_mj\n",
      "  2.48    0.09    0.02    1.10   nino3_djf * amm_jjasom\n",
      "  2.48    0.08    0.02    0.41   relative_aso * relative_aso\n",
      "  2.61    0.14    0.14    1.85   relative_aso * tropic_aso\n",
      "  2.52    0.10    0.06    1.69   relative_aso * nao_mj\n",
      "  2.47    0.09    0.01    1.25   relative_aso * amm_jjasom\n",
      "  2.48    0.12    0.01    0.25   tropic_aso * tropic_aso\n",
      "  2.44    0.11   -0.02   -1.44   tropic_aso * nao_mj\n",
      "  2.43    0.10   -0.03   -1.31   tropic_aso * amm_jjasom\n",
      "  2.53    0.10    0.07    1.05   nao_mj * nao_mj\n",
      "  2.51    0.11    0.05    1.88   nao_mj * amm_jjasom\n",
      "  2.47    0.10    0.01    1.66   amm_jjasom * amm_jjasom\n"
     ]
    }
   ],
   "source": [
    "def test_full_np_nl_1(prod1, prod2, verbose=True):\n",
    "    \"\"\"\n",
    "    prod1 and prod2 are the indexes to use to form the product\n",
    "    \"\"\"\n",
    "    errs = []\n",
    "    params = []\n",
    "    def concat_product(orig):\n",
    "        return np.concatenate([orig, (orig[:, prod1] * orig[:, prod2]).reshape((-1,1))], axis=1)\n",
    "    for bidx in range(num_batches):\n",
    "        counts_train, counts_valid = get_cv_data(bidx, counts)\n",
    "        data_train, data_valid = get_cv_data(bidx, fulldata)\n",
    "        # This step is important. We define mean temperatures using the training\n",
    "        # data as a reference period, then using this mean in the validation period\n",
    "        # This makes no difference in a Poisson regression: but makes it more \n",
    "        # interpretable and might matter in other fitting methods, so we do it here\n",
    "        assert np.all(data_train[:, 0]==1)\n",
    "        feat_means = np.mean(data_train[:, 1:], axis=0)\n",
    "        # Demean training data\n",
    "        train_dm = data_train.copy()\n",
    "        train_dm[:, 1:] = data_train[:, 1:] - feat_means\n",
    "        # Demean validation data\n",
    "        valid_dm = data_valid.copy()\n",
    "        valid_dm[:, 1:] = data_valid[:, 1:] - feat_means\n",
    "        # Form nonlinear predictors\n",
    "        train_nl = train_dm[:, prod1] * train_dm[:, prod2]\n",
    "        valid_nl = valid_dm[:, prod1] * valid_dm[:, prod2]\n",
    "        # Slice to canonical model and concatenate nonlinear predictor\n",
    "        train_X = np.concatenate([train_dm[:, [0] + best3_idxs], train_nl.reshape((-1,1))], axis=1)\n",
    "        valid_X = np.concatenate([valid_dm[:, [0] + best3_idxs], valid_nl.reshape((-1,1))], axis=1)\n",
    "        # Fit\n",
    "        betas, preds = fit_pr(counts_train, train_X, valid_X)\n",
    "        params.append(betas)\n",
    "        err = np.mean(np.abs(preds - counts_valid))\n",
    "        errs.append(err)\n",
    "        if verbose:\n",
    "            print(\"{:d} {:f}\".format(bidx, err))\n",
    "    if verbose:\n",
    "        print()\n",
    "        print(\"mean mae = {:.4f}\".format(np.mean(errs)))\n",
    "        print(\"sdom mae = {:.4f}\".format(np.std(errs)/np.sqrt(len(errs))))\n",
    "    return np.array(errs), params\n",
    "\n",
    "def test_full_np_nl():\n",
    "    # Products of best predictors (already studied)\n",
    "    prod_list_1 = [(i, j) for i in best3_idxs for j in best3_idxs if i <= j]\n",
    "    # Mixture products\n",
    "    prod_list_2 = [(i, j) for i in best3_idxs for j in other_idxs]\n",
    "    # Products of other predictors\n",
    "    prod_list_3 = [(i, j) for i in other_idxs for j in other_idxs if i <= j]\n",
    "    prod_list = prod_list_1 + prod_list_2 + prod_list_3\n",
    "\n",
    "    # List of names\n",
    "    cols = fulldata.columns\n",
    "    name_list = [cols[i] + \" * \" + cols[j] for (i, j) in prod_list]\n",
    "\n",
    "    # For display\n",
    "    prod_list = [(None, None)] + prod_list\n",
    "    name_list = [\"kozar_np\"] + name_list\n",
    "\n",
    "    # Reporting\n",
    "    errs_kozar_np_nl = []\n",
    "    params_kozar_np_nl = []\n",
    "    print(\"    absolute      difference\")\n",
    "    print(\"  mean    sdom    mean     z     name\")\n",
    "    print(\"-\" * 50)\n",
    "    for n, (i, j) in zip(name_list, prod_list):\n",
    "        if i is None:\n",
    "            x = errs_kozar_np\n",
    "        else:\n",
    "            # do the fits\n",
    "            x, y = test_full_np_nl_1(i, j, verbose=False)\n",
    "            errs_kozar_np_nl.append(x)\n",
    "            params_kozar_np_nl.append(y)\n",
    "\n",
    "        # comparison with base (errs_kozar_np)\n",
    "        # negative differences = lower error = good\n",
    "        errs_base = errs_kozar_np\n",
    "        srn = np.sqrt(len(errs_base))\n",
    "        derrs = x - errs_base\n",
    "\n",
    "        print((\"{:6.2f}  \" * 4 +  \" {:s}\").format(np.mean(x),\n",
    "                                      np.std(x)/srn,\n",
    "                                      np.mean(derrs),\n",
    "                                      srn*np.mean(derrs)/reg_std(derrs), n))\n",
    "    return errs_kozar_np_nl, params_kozar_np_nl\n",
    "\n",
    "errs_full_np_nl, params_full_np_nl = test_full_np_nl()"
   ]
  },
  {
   "cell_type": "code",
   "execution_count": 59,
   "id": "ef3337d4-d490-40a4-9409-31d9f5aa167f",
   "metadata": {},
   "outputs": [],
   "source": [
    "def comparison_table(*models):\n",
    "    \"\"\"\n",
    "    Given a list of error series compute various observables and produce a LaTeX table.\n",
    "    Arguments are a list of tuples with error timeseries\n",
    "    comparison_table((name1, errs1), (name2, errs2), ...)\n",
    "    \"\"\"\n",
    "    nfolds = None\n",
    "    base_errs = None\n",
    "    for ii, (name, errs) in enumerate(models):\n",
    "        if nfolds is None:\n",
    "            nfolds = len(errs)\n",
    "        else:\n",
    "            assert nfolds == len(errs), \"different number of folds\"\n",
    "        srn = np.sqrt(nfolds)\n",
    "        mean = np.mean(errs)\n",
    "        sdom = np.std(errs)/srn\n",
    "        s = \"{:s}{:25s}{:s} & {:4.2f} & {:4.2f} \".format(\"\\\\texttt{\", name.replace(\"_\", \"\\_\"), \"}\", mean, sdom)\n",
    "        if ii == 0:\n",
    "            base_errs = errs\n",
    "            s += \"&       &       &      \\\\\\ \"\n",
    "        else:\n",
    "            derrs = errs - base_errs\n",
    "            mean_d = np.mean(derrs)\n",
    "            sdom_d = np.std(derrs)/srn\n",
    "            s += \"& {:4.2f} & {:5.3f} & {:5.2f} \\\\\\ \".format(mean_d, sdom_d, mean_d/sdom_d)\n",
    "        print(s)"
   ]
  },
  {
   "cell_type": "code",
   "execution_count": 60,
   "id": "f1584938-cfab-47b8-add1-ce7a69509b67",
   "metadata": {},
   "outputs": [
    {
     "name": "stdout",
     "output_type": "stream",
     "text": [
      "\\texttt{kozar\\_np                } & 2.46 & 0.10 &       &       &      \\\\ \n",
      "\\texttt{mdr\\_aso * mdr\\_aso      } & 2.63 & 0.19 & 0.16 & 0.126 &  1.30 \\\\ \n",
      "\\texttt{mdr\\_aso * nino34\\_djf   } & 2.50 & 0.09 & 0.04 & 0.009 &  4.36 \\\\ \n",
      "\\texttt{mdr\\_aso * nao\\_djfm     } & 2.47 & 0.10 & 0.00 & 0.009 &  0.37 \\\\ \n",
      "\\texttt{nino34\\_djf * nino34\\_djf} & 2.47 & 0.11 & 0.01 & 0.013 &  0.84 \\\\ \n",
      "\\texttt{nino34\\_djf * nao\\_djfm  } & 2.43 & 0.11 & -0.03 & 0.007 & -4.71 \\\\ \n",
      "\\texttt{nao\\_djfm * nao\\_djfm    } & 2.47 & 0.10 & 0.00 & 0.007 &  0.74 \\\\ \n"
     ]
    }
   ],
   "source": [
    "comparison_table(*[(n, e) for (n, e) in zip(names_kozar_np_nl, [errs_kozar_np] + errs_kozar_np_nl)])"
   ]
  },
  {
   "cell_type": "code",
   "execution_count": 61,
   "id": "c78551b6-bd0a-4d35-ad3a-e6d3f08488aa",
   "metadata": {},
   "outputs": [
    {
     "name": "stdout",
     "output_type": "stream",
     "text": [
      "\\texttt{kozar                    } & 2.81 & 0.24 &       &       &      \\\\ \n",
      "\\texttt{mdr\\_p * mdr\\_p          } & 2.88 & 0.27 & 0.08 & 0.042 &  1.85 \\\\ \n",
      "\\texttt{mdr\\_p * nino34\\_djf     } & 2.94 & 0.31 & 0.13 & 0.103 &  1.28 \\\\ \n",
      "\\texttt{mdr\\_p * nao\\_djfm       } & 2.83 & 0.25 & 0.02 & 0.012 &  1.63 \\\\ \n",
      "\\texttt{nino34\\_djf * nino34\\_djf} & 2.85 & 0.25 & 0.04 & 0.012 &  3.14 \\\\ \n",
      "\\texttt{nino34\\_djf * nao\\_djfm  } & 2.81 & 0.24 & 0.00 & 0.020 &  0.09 \\\\ \n",
      "\\texttt{nao\\_djfm * nao\\_djfm    } & 2.81 & 0.23 & 0.01 & 0.011 &  0.69 \\\\ \n"
     ]
    }
   ],
   "source": [
    "comparison_table(*[(n, e) for (n, e) in zip(names_kozar_nl, [errs_kozar] + errs_kozar_nl)])"
   ]
  },
  {
   "cell_type": "code",
   "execution_count": 55,
   "id": "dd937843-317d-4da8-905c-85fee81bfcf8",
   "metadata": {},
   "outputs": [
    {
     "data": {
      "text/plain": [
       "'mdr\\\\_aso'"
      ]
     },
     "execution_count": 55,
     "metadata": {},
     "output_type": "execute_result"
    }
   ],
   "source": [
    "\"mdr_aso\".replace(\"_\", \"\\_\")"
   ]
  },
  {
   "cell_type": "code",
   "execution_count": null,
   "id": "8d1bf566-7201-4954-ac04-87041ae39145",
   "metadata": {},
   "outputs": [],
   "source": []
  }
 ],
 "metadata": {
  "kernelspec": {
   "display_name": "Python 3 (ipykernel)",
   "language": "python",
   "name": "python3"
  },
  "language_info": {
   "codemirror_mode": {
    "name": "ipython",
    "version": 3
   },
   "file_extension": ".py",
   "mimetype": "text/x-python",
   "name": "python",
   "nbconvert_exporter": "python",
   "pygments_lexer": "ipython3",
   "version": "3.9.18"
  }
 },
 "nbformat": 4,
 "nbformat_minor": 5
}
